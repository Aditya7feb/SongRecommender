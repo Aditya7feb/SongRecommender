{
 "cells": [
  {
   "cell_type": "code",
   "execution_count": 4,
   "metadata": {},
   "outputs": [],
   "source": [
    "import pandas as pd\n",
    "import numpy as np\n"
   ]
  },
  {
   "cell_type": "code",
   "execution_count": 32,
   "metadata": {},
   "outputs": [
    {
     "data": {
      "text/html": [
       "<div>\n",
       "<style scoped>\n",
       "    .dataframe tbody tr th:only-of-type {\n",
       "        vertical-align: middle;\n",
       "    }\n",
       "\n",
       "    .dataframe tbody tr th {\n",
       "        vertical-align: top;\n",
       "    }\n",
       "\n",
       "    .dataframe thead th {\n",
       "        text-align: right;\n",
       "    }\n",
       "</style>\n",
       "<table border=\"1\" class=\"dataframe\">\n",
       "  <thead>\n",
       "    <tr style=\"text-align: right;\">\n",
       "      <th></th>\n",
       "      <th>Song-Name</th>\n",
       "      <th>Singer/Artists</th>\n",
       "      <th>Genre</th>\n",
       "      <th>Album/Movie</th>\n",
       "      <th>User-Rating</th>\n",
       "    </tr>\n",
       "  </thead>\n",
       "  <tbody>\n",
       "    <tr>\n",
       "      <th>1</th>\n",
       "      <td>Aankh Marey</td>\n",
       "      <td>Kumar Sanu, Mika Singh, Neha Kakkar</td>\n",
       "      <td>BollywoodDance</td>\n",
       "      <td>Simmba</td>\n",
       "      <td>8.8/10</td>\n",
       "    </tr>\n",
       "    <tr>\n",
       "      <th>2</th>\n",
       "      <td>Coca Cola</td>\n",
       "      <td>Neha Kakkar, Tony Kakkar</td>\n",
       "      <td>BollywoodDanceRomantic</td>\n",
       "      <td>Luka Chuppi</td>\n",
       "      <td>9.0/10</td>\n",
       "    </tr>\n",
       "    <tr>\n",
       "      <th>3</th>\n",
       "      <td>Apna Time Aayega</td>\n",
       "      <td>Ranveer Singh</td>\n",
       "      <td>BollywoodDance</td>\n",
       "      <td>Gully Boy</td>\n",
       "      <td>9.7/10</td>\n",
       "    </tr>\n",
       "    <tr>\n",
       "      <th>4</th>\n",
       "      <td>Mungda</td>\n",
       "      <td>Jyotica Tangri, Shaan, Subhro Ganguly</td>\n",
       "      <td>BollywoodDance</td>\n",
       "      <td>Total Dhamaal</td>\n",
       "      <td>9.1/10</td>\n",
       "    </tr>\n",
       "    <tr>\n",
       "      <th>5</th>\n",
       "      <td>Tere Bin</td>\n",
       "      <td>Asees Kaur, Rahat Fateh Ali Khan, Tanishk Bagchi</td>\n",
       "      <td>BollywoodRomantic</td>\n",
       "      <td>Simmba</td>\n",
       "      <td>9.2/10</td>\n",
       "    </tr>\n",
       "  </tbody>\n",
       "</table>\n",
       "</div>"
      ],
      "text/plain": [
       "          Song-Name                                    Singer/Artists  \\\n",
       "1       Aankh Marey               Kumar Sanu, Mika Singh, Neha Kakkar   \n",
       "2         Coca Cola                          Neha Kakkar, Tony Kakkar   \n",
       "3  Apna Time Aayega                                     Ranveer Singh   \n",
       "4            Mungda             Jyotica Tangri, Shaan, Subhro Ganguly   \n",
       "5          Tere Bin  Asees Kaur, Rahat Fateh Ali Khan, Tanishk Bagchi   \n",
       "\n",
       "                    Genre    Album/Movie User-Rating  \n",
       "1          BollywoodDance         Simmba      8.8/10  \n",
       "2  BollywoodDanceRomantic    Luka Chuppi      9.0/10  \n",
       "3          BollywoodDance      Gully Boy      9.7/10  \n",
       "4          BollywoodDance  Total Dhamaal      9.1/10  \n",
       "5       BollywoodRomantic         Simmba      9.2/10  "
      ]
     },
     "execution_count": 32,
     "metadata": {},
     "output_type": "execute_result"
    }
   ],
   "source": [
    "data=pd.read_csv('C:/Users/Aditya/Desktop/Song Recommender/data.csv')\n",
    "data.head()\n"
   ]
  },
  {
   "cell_type": "code",
   "execution_count": 9,
   "metadata": {},
   "outputs": [
    {
     "data": {
      "text/html": [
       "<div>\n",
       "<style scoped>\n",
       "    .dataframe tbody tr th:only-of-type {\n",
       "        vertical-align: middle;\n",
       "    }\n",
       "\n",
       "    .dataframe tbody tr th {\n",
       "        vertical-align: top;\n",
       "    }\n",
       "\n",
       "    .dataframe thead th {\n",
       "        text-align: right;\n",
       "    }\n",
       "</style>\n",
       "<table border=\"1\" class=\"dataframe\">\n",
       "  <thead>\n",
       "    <tr style=\"text-align: right;\">\n",
       "      <th></th>\n",
       "      <th>Song-Name</th>\n",
       "      <th>Singer/Artists</th>\n",
       "      <th>Genre</th>\n",
       "      <th>Album/Movie</th>\n",
       "      <th>User-Rating</th>\n",
       "    </tr>\n",
       "  </thead>\n",
       "  <tbody>\n",
       "    <tr>\n",
       "      <th>125</th>\n",
       "      <td>Ishq Di Baajiyan</td>\n",
       "      <td>Diljit Dosanjh</td>\n",
       "      <td>BollywoodRomantic</td>\n",
       "      <td>Soorma</td>\n",
       "      <td>9.9/10</td>\n",
       "    </tr>\n",
       "    <tr>\n",
       "      <th>159</th>\n",
       "      <td>Soorma Anthem</td>\n",
       "      <td>Shankar Mahadevan</td>\n",
       "      <td>BollywoodMotivational</td>\n",
       "      <td>Soorma</td>\n",
       "      <td>9.9/10</td>\n",
       "    </tr>\n",
       "    <tr>\n",
       "      <th>2294</th>\n",
       "      <td>Rang De</td>\n",
       "      <td>Shankar Mahadevan, Suraj Jagan</td>\n",
       "      <td>BollywoodMotivational</td>\n",
       "      <td>My Name is Khan</td>\n",
       "      <td>9.8/10</td>\n",
       "    </tr>\n",
       "    <tr>\n",
       "      <th>555</th>\n",
       "      <td>Ishq Bulaava</td>\n",
       "      <td>Sanam Puri</td>\n",
       "      <td>BollywoodRomantic</td>\n",
       "      <td>Hasee Toh Phasee</td>\n",
       "      <td>9.8/10</td>\n",
       "    </tr>\n",
       "    <tr>\n",
       "      <th>2186</th>\n",
       "      <td>Tere Ishq Ka Suroor</td>\n",
       "      <td>Aaman Trikha, Akshata Dixit</td>\n",
       "      <td>BollywoodRomantic</td>\n",
       "      <td>Single</td>\n",
       "      <td>9.8/10</td>\n",
       "    </tr>\n",
       "  </tbody>\n",
       "</table>\n",
       "</div>"
      ],
      "text/plain": [
       "                Song-Name                  Singer/Artists  \\\n",
       "125      Ishq Di Baajiyan                  Diljit Dosanjh   \n",
       "159         Soorma Anthem               Shankar Mahadevan   \n",
       "2294              Rang De  Shankar Mahadevan, Suraj Jagan   \n",
       "555          Ishq Bulaava                      Sanam Puri   \n",
       "2186  Tere Ishq Ka Suroor     Aaman Trikha, Akshata Dixit   \n",
       "\n",
       "                      Genre       Album/Movie User-Rating  \n",
       "125       BollywoodRomantic            Soorma      9.9/10  \n",
       "159   BollywoodMotivational            Soorma      9.9/10  \n",
       "2294  BollywoodMotivational   My Name is Khan      9.8/10  \n",
       "555       BollywoodRomantic  Hasee Toh Phasee      9.8/10  \n",
       "2186      BollywoodRomantic            Single      9.8/10  "
      ]
     },
     "execution_count": 9,
     "metadata": {},
     "output_type": "execute_result"
    }
   ],
   "source": [
    "data=data.sort_values(by='User-Rating', ascending=False)\n",
    "data.head()"
   ]
  },
  {
   "cell_type": "code",
   "execution_count": 41,
   "metadata": {},
   "outputs": [
    {
     "name": "stdout",
     "output_type": "stream",
     "text": [
      "Enter Your Favourite Song: Rang De\n"
     ]
    }
   ],
   "source": [
    "user_input=input('Enter Your Favourite Song: ')"
   ]
  },
  {
   "cell_type": "code",
   "execution_count": 42,
   "metadata": {},
   "outputs": [
    {
     "data": {
      "text/html": [
       "<div>\n",
       "<style scoped>\n",
       "    .dataframe tbody tr th:only-of-type {\n",
       "        vertical-align: middle;\n",
       "    }\n",
       "\n",
       "    .dataframe tbody tr th {\n",
       "        vertical-align: top;\n",
       "    }\n",
       "\n",
       "    .dataframe thead th {\n",
       "        text-align: right;\n",
       "    }\n",
       "</style>\n",
       "<table border=\"1\" class=\"dataframe\">\n",
       "  <thead>\n",
       "    <tr style=\"text-align: right;\">\n",
       "      <th></th>\n",
       "      <th>Song-Name</th>\n",
       "      <th>Singer/Artists</th>\n",
       "      <th>Genre</th>\n",
       "      <th>Album/Movie</th>\n",
       "      <th>User-Rating</th>\n",
       "    </tr>\n",
       "  </thead>\n",
       "  <tbody>\n",
       "    <tr>\n",
       "      <th>2294</th>\n",
       "      <td>Rang De</td>\n",
       "      <td>Shankar Mahadevan, Suraj Jagan</td>\n",
       "      <td>BollywoodMotivational</td>\n",
       "      <td>My Name is Khan</td>\n",
       "      <td>9.8/10</td>\n",
       "    </tr>\n",
       "  </tbody>\n",
       "</table>\n",
       "</div>"
      ],
      "text/plain": [
       "     Song-Name                  Singer/Artists                  Genre  \\\n",
       "2294   Rang De  Shankar Mahadevan, Suraj Jagan  BollywoodMotivational   \n",
       "\n",
       "          Album/Movie User-Rating  \n",
       "2294  My Name is Khan      9.8/10  "
      ]
     },
     "execution_count": 42,
     "metadata": {},
     "output_type": "execute_result"
    }
   ],
   "source": [
    "song=data[data['Song-Name']==user_input]\n",
    "song"
   ]
  },
  {
   "cell_type": "code",
   "execution_count": 43,
   "metadata": {},
   "outputs": [
    {
     "data": {
      "text/plain": [
       "'BollywoodMotivational'"
      ]
     },
     "execution_count": 43,
     "metadata": {},
     "output_type": "execute_result"
    }
   ],
   "source": [
    "Genre=song['Genre']\n",
    "Genre=str(Genre)\n",
    "i=0\n",
    "while(not Genre[i].isalpha()):\n",
    "    i=i+1\n",
    "Genre=Genre[i:]\n",
    "i=0\n",
    "while(not Genre[i]== '\\n'):\n",
    "    i=i+1\n",
    "Genre=Genre[0:i]\n",
    "Genre"
   ]
  },
  {
   "cell_type": "code",
   "execution_count": 44,
   "metadata": {},
   "outputs": [
    {
     "data": {
      "text/html": [
       "<div>\n",
       "<style scoped>\n",
       "    .dataframe tbody tr th:only-of-type {\n",
       "        vertical-align: middle;\n",
       "    }\n",
       "\n",
       "    .dataframe tbody tr th {\n",
       "        vertical-align: top;\n",
       "    }\n",
       "\n",
       "    .dataframe thead th {\n",
       "        text-align: right;\n",
       "    }\n",
       "</style>\n",
       "<table border=\"1\" class=\"dataframe\">\n",
       "  <thead>\n",
       "    <tr style=\"text-align: right;\">\n",
       "      <th></th>\n",
       "      <th>Song-Name</th>\n",
       "      <th>Singer/Artists</th>\n",
       "      <th>Genre</th>\n",
       "      <th>Album/Movie</th>\n",
       "      <th>User-Rating</th>\n",
       "    </tr>\n",
       "  </thead>\n",
       "  <tbody>\n",
       "    <tr>\n",
       "      <th>78</th>\n",
       "      <td>Kar Har Maidaan Fateh</td>\n",
       "      <td>Shreya Ghoshal, Sukhwinder Singh</td>\n",
       "      <td>BollywoodMotivational</td>\n",
       "      <td>Sanju</td>\n",
       "      <td>9.5/10</td>\n",
       "    </tr>\n",
       "    <tr>\n",
       "      <th>159</th>\n",
       "      <td>Soorma Anthem</td>\n",
       "      <td>Shankar Mahadevan</td>\n",
       "      <td>BollywoodMotivational</td>\n",
       "      <td>Soorma</td>\n",
       "      <td>9.9/10</td>\n",
       "    </tr>\n",
       "    <tr>\n",
       "      <th>224</th>\n",
       "      <td>Sultan Title Song</td>\n",
       "      <td>Shadaab Faridi, Sukhwinder Singh</td>\n",
       "      <td>BollywoodMotivational</td>\n",
       "      <td>Sultan</td>\n",
       "      <td>8.9/10</td>\n",
       "    </tr>\n",
       "    <tr>\n",
       "      <th>378</th>\n",
       "      <td>Dangal</td>\n",
       "      <td>Daler Mehndi</td>\n",
       "      <td>BollywoodMotivational</td>\n",
       "      <td>Dangal</td>\n",
       "      <td>9.1/10</td>\n",
       "    </tr>\n",
       "    <tr>\n",
       "      <th>435</th>\n",
       "      <td>Raazi Title Track</td>\n",
       "      <td>Arijit Singh</td>\n",
       "      <td>BollywoodMotivational</td>\n",
       "      <td>Raazi</td>\n",
       "      <td>9.4/10</td>\n",
       "    </tr>\n",
       "  </tbody>\n",
       "</table>\n",
       "</div>"
      ],
      "text/plain": [
       "                 Song-Name                    Singer/Artists  \\\n",
       "78   Kar Har Maidaan Fateh  Shreya Ghoshal, Sukhwinder Singh   \n",
       "159          Soorma Anthem                 Shankar Mahadevan   \n",
       "224      Sultan Title Song  Shadaab Faridi, Sukhwinder Singh   \n",
       "378                 Dangal                      Daler Mehndi   \n",
       "435      Raazi Title Track                      Arijit Singh   \n",
       "\n",
       "                     Genre Album/Movie User-Rating  \n",
       "78   BollywoodMotivational       Sanju      9.5/10  \n",
       "159  BollywoodMotivational      Soorma      9.9/10  \n",
       "224  BollywoodMotivational      Sultan      8.9/10  \n",
       "378  BollywoodMotivational      Dangal      9.1/10  \n",
       "435  BollywoodMotivational       Raazi      9.4/10  "
      ]
     },
     "execution_count": 44,
     "metadata": {},
     "output_type": "execute_result"
    }
   ],
   "source": [
    "Recommended=data[data['Genre']==Genre]\n",
    "\n",
    "Recommended.head()\n"
   ]
  },
  {
   "cell_type": "code",
   "execution_count": 45,
   "metadata": {},
   "outputs": [
    {
     "name": "stdout",
     "output_type": "stream",
     "text": [
      "Recommended Songs:\n"
     ]
    },
    {
     "data": {
      "text/plain": [
       "78                            Kar Har Maidaan Fateh\n",
       "159                                   Soorma Anthem\n",
       "224                               Sultan Title Song\n",
       "378                                          Dangal\n",
       "435                               Raazi Title Track\n",
       "461                               Raj Karega Khalsa\n",
       "663                                    Chak Lein De\n",
       "684                                       Ziddi Dil\n",
       "943                                    Rajj Rajj Ke\n",
       "1005                                       Daata Tu\n",
       "1317                                      Aashayein\n",
       "1571                                Jiska Koi Nahin\n",
       "1616                               Kehkasha Tu Meri\n",
       "1945                                      Ali Maula\n",
       "1997    Insaaf Ki Dagar Pe Bachchon Dikhaao Chal Ke\n",
       "2051                                   Noor E Khuda\n",
       "2118                                         Mirzya\n",
       "2294                                        Rang De\n",
       "2325              Mirza Se Darre Khuda Daler Mehndi\n",
       "Name: Song-Name, dtype: object"
      ]
     },
     "execution_count": 45,
     "metadata": {},
     "output_type": "execute_result"
    }
   ],
   "source": [
    "print('Recommended Songs:')\n",
    "Recommended['Song-Name']"
   ]
  },
  {
   "cell_type": "code",
   "execution_count": null,
   "metadata": {},
   "outputs": [],
   "source": []
  }
 ],
 "metadata": {
  "kernelspec": {
   "display_name": "Python 3",
   "language": "python",
   "name": "python3"
  },
  "language_info": {
   "codemirror_mode": {
    "name": "ipython",
    "version": 3
   },
   "file_extension": ".py",
   "mimetype": "text/x-python",
   "name": "python",
   "nbconvert_exporter": "python",
   "pygments_lexer": "ipython3",
   "version": "3.7.6"
  }
 },
 "nbformat": 4,
 "nbformat_minor": 4
}
