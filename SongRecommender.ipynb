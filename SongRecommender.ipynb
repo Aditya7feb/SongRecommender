{
 "cells": [
  {
   "cell_type": "code",
   "execution_count": 4,
   "metadata": {},
   "outputs": [],
   "source": [
    "import pandas as pd\n",
    "import numpy as np\n"
   ]
  },
  {
   "cell_type": "code",
   "execution_count": 32,
   "metadata": {},
   "outputs": [
    {
     "data": {
      "text/html": [
       "<div>\n",
       "<style scoped>\n",
       "    .dataframe tbody tr th:only-of-type {\n",
       "        vertical-align: middle;\n",
       "    }\n",
       "\n",
       "    .dataframe tbody tr th {\n",
       "        vertical-align: top;\n",
       "    }\n",
       "\n",
       "    .dataframe thead th {\n",
       "        text-align: right;\n",
       "    }\n",
       "</style>\n",
       "<table border=\"1\" class=\"dataframe\">\n",
       "  <thead>\n",
       "    <tr style=\"text-align: right;\">\n",
       "      <th></th>\n",
       "      <th>Song-Name</th>\n",
       "      <th>Singer/Artists</th>\n",
       "      <th>Genre</th>\n",
       "      <th>Album/Movie</th>\n",
       "      <th>User-Rating</th>\n",
       "    </tr>\n",
       "  </thead>\n",
       "  <tbody>\n",
       "    <tr>\n",
       "      <th>1</th>\n",
       "      <td>Aankh Marey</td>\n",
       "      <td>Kumar Sanu, Mika Singh, Neha Kakkar</td>\n",
       "      <td>BollywoodDance</td>\n",
       "      <td>Simmba</td>\n",
       "      <td>8.8/10</td>\n",
       "    </tr>\n",
       "    <tr>\n",
       "      <th>2</th>\n",
       "      <td>Coca Cola</td>\n",
       "      <td>Neha Kakkar, Tony Kakkar</td>\n",
       "      <td>BollywoodDanceRomantic</td>\n",
       "      <td>Luka Chuppi</td>\n",
       "      <td>9.0/10</td>\n",
       "    </tr>\n",
       "    <tr>\n",
       "      <th>3</th>\n",
       "      <td>Apna Time Aayega</td>\n",
       "      <td>Ranveer Singh</td>\n",
       "      <td>BollywoodDance</td>\n",
       "      <td>Gully Boy</td>\n",
       "      <td>9.7/10</td>\n",
       "    </tr>\n",
       "    <tr>\n",
       "      <th>4</th>\n",
       "      <td>Mungda</td>\n",
       "      <td>Jyotica Tangri, Shaan, Subhro Ganguly</td>\n",
       "      <td>BollywoodDance</td>\n",
       "      <td>Total Dhamaal</td>\n",
       "      <td>9.1/10</td>\n",
       "    </tr>\n",
       "    <tr>\n",
       "      <th>5</th>\n",
       "      <td>Tere Bin</td>\n",
       "      <td>Asees Kaur, Rahat Fateh Ali Khan, Tanishk Bagchi</td>\n",
       "      <td>BollywoodRomantic</td>\n",
       "      <td>Simmba</td>\n",
       "      <td>9.2/10</td>\n",
       "    </tr>\n",
       "  </tbody>\n",
       "</table>\n",
       "</div>"
      ],
      "text/plain": [
       "          Song-Name                                    Singer/Artists  \\\n",
       "1       Aankh Marey               Kumar Sanu, Mika Singh, Neha Kakkar   \n",
       "2         Coca Cola                          Neha Kakkar, Tony Kakkar   \n",
       "3  Apna Time Aayega                                     Ranveer Singh   \n",
       "4            Mungda             Jyotica Tangri, Shaan, Subhro Ganguly   \n",
       "5          Tere Bin  Asees Kaur, Rahat Fateh Ali Khan, Tanishk Bagchi   \n",
       "\n",
       "                    Genre    Album/Movie User-Rating  \n",
       "1          BollywoodDance         Simmba      8.8/10  \n",
       "2  BollywoodDanceRomantic    Luka Chuppi      9.0/10  \n",
       "3          BollywoodDance      Gully Boy      9.7/10  \n",
       "4          BollywoodDance  Total Dhamaal      9.1/10  \n",
       "5       BollywoodRomantic         Simmba      9.2/10  "
      ]
     },
     "execution_count": 32,
     "metadata": {},
     "output_type": "execute_result"
    }
   ],
   "source": [
    "data=pd.read_csv('C:/Users/Aditya/Desktop/Song Recommender/data.csv')\n",
    "data.head()\n"
   ]
  },
  {
   "cell_type": "code",
   "execution_count": 9,
   "metadata": {},
   "outputs": [
    {
     "data": {
      "text/html": [
       "<div>\n",
       "<style scoped>\n",
       "    .dataframe tbody tr th:only-of-type {\n",
       "        vertical-align: middle;\n",
       "    }\n",
       "\n",
       "    .dataframe tbody tr th {\n",
       "        vertical-align: top;\n",
       "    }\n",
       "\n",
       "    .dataframe thead th {\n",
       "        text-align: right;\n",
       "    }\n",
       "</style>\n",
       "<table border=\"1\" class=\"dataframe\">\n",
       "  <thead>\n",
       "    <tr style=\"text-align: right;\">\n",
       "      <th></th>\n",
       "      <th>Song-Name</th>\n",
       "      <th>Singer/Artists</th>\n",
       "      <th>Genre</th>\n",
       "      <th>Album/Movie</th>\n",
       "      <th>User-Rating</th>\n",
       "    </tr>\n",
       "  </thead>\n",
       "  <tbody>\n",
       "    <tr>\n",
       "      <th>125</th>\n",
       "      <td>Ishq Di Baajiyan</td>\n",
       "      <td>Diljit Dosanjh</td>\n",
       "      <td>BollywoodRomantic</td>\n",
       "      <td>Soorma</td>\n",
       "      <td>9.9/10</td>\n",
       "    </tr>\n",
       "    <tr>\n",
       "      <th>159</th>\n",
       "      <td>Soorma Anthem</td>\n",
       "      <td>Shankar Mahadevan</td>\n",
       "      <td>BollywoodMotivational</td>\n",
       "      <td>Soorma</td>\n",
       "      <td>9.9/10</td>\n",
       "    </tr>\n",
       "    <tr>\n",
       "      <th>2294</th>\n",
       "      <td>Rang De</td>\n",
       "      <td>Shankar Mahadevan, Suraj Jagan</td>\n",
       "      <td>BollywoodMotivational</td>\n",
       "      <td>My Name is Khan</td>\n",
       "      <td>9.8/10</td>\n",
       "    </tr>\n",
       "    <tr>\n",
       "      <th>555</th>\n",
       "      <td>Ishq Bulaava</td>\n",
       "      <td>Sanam Puri</td>\n",
       "      <td>BollywoodRomantic</td>\n",
       "      <td>Hasee Toh Phasee</td>\n",
       "      <td>9.8/10</td>\n",
       "    </tr>\n",
       "    <tr>\n",
       "      <th>2186</th>\n",
       "      <td>Tere Ishq Ka Suroor</td>\n",
       "      <td>Aaman Trikha, Akshata Dixit</td>\n",
       "      <td>BollywoodRomantic</td>\n",
       "      <td>Single</td>\n",
       "      <td>9.8/10</td>\n",
       "    </tr>\n",
       "  </tbody>\n",
       "</table>\n",
       "</div>"
      ],
      "text/plain": [
       "                Song-Name                  Singer/Artists  \\\n",
       "125      Ishq Di Baajiyan                  Diljit Dosanjh   \n",
       "159         Soorma Anthem               Shankar Mahadevan   \n",
       "2294              Rang De  Shankar Mahadevan, Suraj Jagan   \n",
       "555          Ishq Bulaava                      Sanam Puri   \n",
       "2186  Tere Ishq Ka Suroor     Aaman Trikha, Akshata Dixit   \n",
       "\n",
       "                      Genre       Album/Movie User-Rating  \n",
       "125       BollywoodRomantic            Soorma      9.9/10  \n",
       "159   BollywoodMotivational            Soorma      9.9/10  \n",
       "2294  BollywoodMotivational   My Name is Khan      9.8/10  \n",
       "555       BollywoodRomantic  Hasee Toh Phasee      9.8/10  \n",
       "2186      BollywoodRomantic            Single      9.8/10  "
      ]
     },
     "execution_count": 9,
     "metadata": {},
     "output_type": "execute_result"
    }
   ],
   "source": [
    "data=data.sort_values(by='User-Rating', ascending=False)\n",
    "data.head()"
   ]
  },
  {
   "cell_type": "code",
   "execution_count": 49,
   "metadata": {},
   "outputs": [
    {
     "name": "stdout",
     "output_type": "stream",
     "text": [
      "Enter Your Favourite Song: Tere Bin\n"
     ]
    }
   ],
   "source": [
    "user_input=input('Enter Your Favourite Song: ')"
   ]
  },
  {
   "cell_type": "code",
   "execution_count": 50,
   "metadata": {},
   "outputs": [
    {
     "data": {
      "text/html": [
       "<div>\n",
       "<style scoped>\n",
       "    .dataframe tbody tr th:only-of-type {\n",
       "        vertical-align: middle;\n",
       "    }\n",
       "\n",
       "    .dataframe tbody tr th {\n",
       "        vertical-align: top;\n",
       "    }\n",
       "\n",
       "    .dataframe thead th {\n",
       "        text-align: right;\n",
       "    }\n",
       "</style>\n",
       "<table border=\"1\" class=\"dataframe\">\n",
       "  <thead>\n",
       "    <tr style=\"text-align: right;\">\n",
       "      <th></th>\n",
       "      <th>Song-Name</th>\n",
       "      <th>Singer/Artists</th>\n",
       "      <th>Genre</th>\n",
       "      <th>Album/Movie</th>\n",
       "      <th>User-Rating</th>\n",
       "    </tr>\n",
       "  </thead>\n",
       "  <tbody>\n",
       "    <tr>\n",
       "      <th>5</th>\n",
       "      <td>Tere Bin</td>\n",
       "      <td>Asees Kaur, Rahat Fateh Ali Khan, Tanishk Bagchi</td>\n",
       "      <td>BollywoodRomantic</td>\n",
       "      <td>Simmba</td>\n",
       "      <td>9.2/10</td>\n",
       "    </tr>\n",
       "    <tr>\n",
       "      <th>1166</th>\n",
       "      <td>Tere Bin</td>\n",
       "      <td>Atif Aslam</td>\n",
       "      <td>BollywoodSad</td>\n",
       "      <td>Bas Ek Pal</td>\n",
       "      <td>9.6/10</td>\n",
       "    </tr>\n",
       "  </tbody>\n",
       "</table>\n",
       "</div>"
      ],
      "text/plain": [
       "     Song-Name                                    Singer/Artists  \\\n",
       "5     Tere Bin  Asees Kaur, Rahat Fateh Ali Khan, Tanishk Bagchi   \n",
       "1166  Tere Bin                                        Atif Aslam   \n",
       "\n",
       "                  Genre Album/Movie User-Rating  \n",
       "5     BollywoodRomantic      Simmba      9.2/10  \n",
       "1166       BollywoodSad  Bas Ek Pal      9.6/10  "
      ]
     },
     "execution_count": 50,
     "metadata": {},
     "output_type": "execute_result"
    }
   ],
   "source": [
    "song=data[data['Song-Name']==user_input]\n",
    "song"
   ]
  },
  {
   "cell_type": "code",
   "execution_count": 51,
   "metadata": {},
   "outputs": [
    {
     "data": {
      "text/plain": [
       "'BollywoodRomantic'"
      ]
     },
     "execution_count": 51,
     "metadata": {},
     "output_type": "execute_result"
    }
   ],
   "source": [
    "Genre=song['Genre']\n",
    "Genre=str(Genre)\n",
    "i=0\n",
    "while(not Genre[i].isalpha()):\n",
    "    i=i+1\n",
    "Genre=Genre[i:]\n",
    "i=0\n",
    "while(not Genre[i]== '\\n'):\n",
    "    i=i+1\n",
    "Genre=Genre[0:i]\n",
    "Genre"
   ]
  },
  {
   "cell_type": "code",
   "execution_count": 52,
   "metadata": {},
   "outputs": [
    {
     "data": {
      "text/html": [
       "<div>\n",
       "<style scoped>\n",
       "    .dataframe tbody tr th:only-of-type {\n",
       "        vertical-align: middle;\n",
       "    }\n",
       "\n",
       "    .dataframe tbody tr th {\n",
       "        vertical-align: top;\n",
       "    }\n",
       "\n",
       "    .dataframe thead th {\n",
       "        text-align: right;\n",
       "    }\n",
       "</style>\n",
       "<table border=\"1\" class=\"dataframe\">\n",
       "  <thead>\n",
       "    <tr style=\"text-align: right;\">\n",
       "      <th></th>\n",
       "      <th>Song-Name</th>\n",
       "      <th>Singer/Artists</th>\n",
       "      <th>Genre</th>\n",
       "      <th>Album/Movie</th>\n",
       "      <th>User-Rating</th>\n",
       "    </tr>\n",
       "  </thead>\n",
       "  <tbody>\n",
       "    <tr>\n",
       "      <th>5</th>\n",
       "      <td>Tere Bin</td>\n",
       "      <td>Asees Kaur, Rahat Fateh Ali Khan, Tanishk Bagchi</td>\n",
       "      <td>BollywoodRomantic</td>\n",
       "      <td>Simmba</td>\n",
       "      <td>9.2/10</td>\n",
       "    </tr>\n",
       "    <tr>\n",
       "      <th>10</th>\n",
       "      <td>Ek Ladki Ko Dekha Toh Aisa Laga</td>\n",
       "      <td>Darshan Raval, Rochak Kohli</td>\n",
       "      <td>BollywoodRomantic</td>\n",
       "      <td>Ek Ladki Ko Dekha Toh Aisa Laga</td>\n",
       "      <td>9.6/10</td>\n",
       "    </tr>\n",
       "    <tr>\n",
       "      <th>17</th>\n",
       "      <td>Dil Diyan Gallan</td>\n",
       "      <td>Atif Aslam</td>\n",
       "      <td>BollywoodRomantic</td>\n",
       "      <td>Tiger Zinda Hai</td>\n",
       "      <td>9.1/10</td>\n",
       "    </tr>\n",
       "    <tr>\n",
       "      <th>21</th>\n",
       "      <td>Mere Naam Tu</td>\n",
       "      <td>Abhay Jodhpurkar</td>\n",
       "      <td>BollywoodRomantic</td>\n",
       "      <td>Zero</td>\n",
       "      <td>9.2/10</td>\n",
       "    </tr>\n",
       "    <tr>\n",
       "      <th>23</th>\n",
       "      <td>Dekhte Dekhte</td>\n",
       "      <td>Atif Aslam</td>\n",
       "      <td>BollywoodRomantic</td>\n",
       "      <td>Batti Gul Meter Chalu</td>\n",
       "      <td>9.5/10</td>\n",
       "    </tr>\n",
       "  </tbody>\n",
       "</table>\n",
       "</div>"
      ],
      "text/plain": [
       "                          Song-Name  \\\n",
       "5                          Tere Bin   \n",
       "10  Ek Ladki Ko Dekha Toh Aisa Laga   \n",
       "17                 Dil Diyan Gallan   \n",
       "21                     Mere Naam Tu   \n",
       "23                    Dekhte Dekhte   \n",
       "\n",
       "                                      Singer/Artists              Genre  \\\n",
       "5   Asees Kaur, Rahat Fateh Ali Khan, Tanishk Bagchi  BollywoodRomantic   \n",
       "10                       Darshan Raval, Rochak Kohli  BollywoodRomantic   \n",
       "17                                        Atif Aslam  BollywoodRomantic   \n",
       "21                                  Abhay Jodhpurkar  BollywoodRomantic   \n",
       "23                                        Atif Aslam  BollywoodRomantic   \n",
       "\n",
       "                        Album/Movie User-Rating  \n",
       "5                            Simmba      9.2/10  \n",
       "10  Ek Ladki Ko Dekha Toh Aisa Laga      9.6/10  \n",
       "17                  Tiger Zinda Hai      9.1/10  \n",
       "21                             Zero      9.2/10  \n",
       "23            Batti Gul Meter Chalu      9.5/10  "
      ]
     },
     "execution_count": 52,
     "metadata": {},
     "output_type": "execute_result"
    }
   ],
   "source": [
    "Recommended=data[data['Genre']==Genre]\n",
    "\n",
    "Recommended.head()\n"
   ]
  },
  {
   "cell_type": "code",
   "execution_count": 53,
   "metadata": {},
   "outputs": [
    {
     "name": "stdout",
     "output_type": "stream",
     "text": [
      "Recommended Songs:\n"
     ]
    },
    {
     "data": {
      "text/plain": [
       "5                              Tere Bin\n",
       "10      Ek Ladki Ko Dekha Toh Aisa Laga\n",
       "17                     Dil Diyan Gallan\n",
       "21                         Mere Naam Tu\n",
       "23                        Dekhte Dekhte\n",
       "                     ...               \n",
       "2387                           Mil Gaya\n",
       "2393       Meri Nazren Hasin Hai Ki Tum\n",
       "2409     Dar Pe Aaye Hain Tere Kasam Le\n",
       "2411               Sunle Tu Dilki Sadaa\n",
       "2413           Mohabbat Isko Kahte Hain\n",
       "Name: Song-Name, Length: 601, dtype: object"
      ]
     },
     "execution_count": 53,
     "metadata": {},
     "output_type": "execute_result"
    }
   ],
   "source": [
    "print('Recommended Songs:')\n",
    "Recommended['Song-Name']"
   ]
  },
  {
   "cell_type": "code",
   "execution_count": null,
   "metadata": {},
   "outputs": [],
   "source": []
  }
 ],
 "metadata": {
  "kernelspec": {
   "display_name": "Python 3",
   "language": "python",
   "name": "python3"
  },
  "language_info": {
   "codemirror_mode": {
    "name": "ipython",
    "version": 3
   },
   "file_extension": ".py",
   "mimetype": "text/x-python",
   "name": "python",
   "nbconvert_exporter": "python",
   "pygments_lexer": "ipython3",
   "version": "3.7.6"
  }
 },
 "nbformat": 4,
 "nbformat_minor": 4
}
